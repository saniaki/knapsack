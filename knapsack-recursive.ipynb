{
 "cells": [
  {
   "cell_type": "code",
   "execution_count": 1,
   "metadata": {},
   "outputs": [],
   "source": [
    "import csv\n",
    "import time"
   ]
  },
  {
   "cell_type": "code",
   "execution_count": 2,
   "metadata": {},
   "outputs": [],
   "source": [
    "def knapsack_recursive(d,n,W):\n",
    "    '''\n",
    "    This function calculate max value solution of knapsack problem using a top-down recursive approach\n",
    "    It is slow (hash table is not used), as does many recursive calls\n",
    "    \n",
    "    Inputs:\n",
    "            d: list of items and their weights\n",
    "            n: number of items\n",
    "            W: capacity \n",
    "    \n",
    "    Outputs:\n",
    "            max_value : max value solution \n",
    "    '''\n",
    "    if n == 1:\n",
    "        if d[0][1] > W:\n",
    "            max_value = 0\n",
    "        else:\n",
    "            max_value = d[0][0]  \n",
    "    else:\n",
    "        vi = d[n-1][0] # last item\n",
    "        wi = d[n-1][1] # last item's weight\n",
    "        if W >= wi:\n",
    "            max_value = max(knapsack_recursive(d[0:n],n-1,W), (knapsack_recursive(d[0:n],n-1,W-wi) + vi))\n",
    "        else:\n",
    "            max_value = knapsack_recursive(d[0:n],n-1,W)\n",
    "    \n",
    "    return max_value\n",
    "    "
   ]
  },
  {
   "cell_type": "code",
   "execution_count": 3,
   "metadata": {},
   "outputs": [],
   "source": [
    "def knapsack_recursive_hash(d,n,W): \n",
    "    \n",
    "    '''    \n",
    "     This function calculate max value solution of knapsack problem using a top-down recursive approach\n",
    "     It is fast (hash table is  used), as instead of making recursive calls, save and reuse solution\n",
    "     of subproblems in a hash table data structure\n",
    "    \n",
    "     Inputs:\n",
    "             d: list of items and their weights\n",
    "             n: number of items\n",
    "             W: capacity \n",
    "   \n",
    "     Outputs:\n",
    "             max_value : max value solution \n",
    "     '''\n",
    "    global Hash_table\n",
    "    \n",
    "    if n == 1:\n",
    "        if d[0][1] > W:\n",
    "            max_value = 0\n",
    "            Hash_table[str(n)+'_'+str(W)] = max_value\n",
    "        else:\n",
    "            max_value = d[0][0]\n",
    "            Hash_table[str(n)+'_'+str(W)] = max_value\n",
    "    else:\n",
    "        try:\n",
    "            vi = d[n-1][0] # last item\n",
    "            wi = d[n-1][1] # last item's weight\n",
    "            if W >= wi:\n",
    "                max_value = max(Hash_table[str(n-1)+'_'+str(W)], (Hash_table[str(n-1)+'_'+str(W-wi)] + vi))\n",
    "                Hash_table[str(n)+'_'+str(W)] = max_value\n",
    "            else:\n",
    "                max_value = Hash_table[str(n-1)+'_'+str(W)]\n",
    "                Hash_table[str(n)+'_'+str(W)] = max_value\n",
    "                \n",
    "        except:\n",
    "            vi = d[n-1][0] # last item\n",
    "            wi = d[n-1][1] # last item's weight\n",
    "            if W >= wi:\n",
    "                max_value = max(knapsack_recursive_hash(d[0:n],n-1,W), (knapsack_recursive_hash(d[0:n],n-1,W-wi) + vi))\n",
    "                Hash_table[str(n)+'_'+str(W)] = max_value\n",
    "\n",
    "            else:\n",
    "                max_value = knapsack_recursive_hash(d[0:n],n-1,W)\n",
    "                Hash_table[str(n)+'_'+str(W)] = max_value\n",
    "            \n",
    "    return max_value\n",
    "\n"
   ]
  },
  {
   "cell_type": "code",
   "execution_count": 13,
   "metadata": {},
   "outputs": [],
   "source": [
    "# reading the input file as a list\n",
    "with open('knapsack_big.txt') as f:\n",
    "    reader = csv.reader(f, delimiter=\" \")\n",
    "    d = list(reader)\n",
    "d = [[int(i[0]),int(i[1])] for i in d] # convert d into integers\n",
    "\n",
    "W, n = int(d[0][0]), int(d[0][1]) # W is capacity, n is number of items"
   ]
  },
  {
   "cell_type": "code",
   "execution_count": 14,
   "metadata": {},
   "outputs": [],
   "source": [
    "# start_time = time.time()\n",
    "\n",
    "# dd = [[int(i[0]),int(i[1])] for i in d] # convert d into integers\n",
    "\n",
    "# dd.pop(0)\n",
    "\n",
    "# result = knapsack_recursive(dd,n,W)\n",
    "# print('The value of optimal solutin for given Capacity of {} is {}'.format(W,result))\n",
    "# print(\"--- %s seconds ---\" % (time.time() - start_time))"
   ]
  },
  {
   "cell_type": "code",
   "execution_count": 15,
   "metadata": {},
   "outputs": [
    {
     "name": "stdout",
     "output_type": "stream",
     "text": [
      "The value of optimal solutin for given Capacity of 2000000 is 4243395\n",
      "--- 103.61408805847168 seconds ---\n"
     ]
    }
   ],
   "source": [
    "start_time = time.time()\n",
    "\n",
    "dd = [[int(i[0]),int(i[1])] for i in d] # convert d into integers\n",
    "dd.pop(0)\n",
    "\n",
    "Hash_table = {}\n",
    "a = knapsack_recursive_hash(dd,n,W)\n",
    "print('The value of optimal solutin for given Capacity of {} is {}'.format(W,a))\n",
    "print(\"--- %s seconds ---\" % (time.time() - start_time))"
   ]
  },
  {
   "cell_type": "code",
   "execution_count": null,
   "metadata": {},
   "outputs": [],
   "source": []
  }
 ],
 "metadata": {
  "kernelspec": {
   "display_name": "Python 3",
   "language": "python",
   "name": "python3"
  },
  "language_info": {
   "codemirror_mode": {
    "name": "ipython",
    "version": 3
   },
   "file_extension": ".py",
   "mimetype": "text/x-python",
   "name": "python",
   "nbconvert_exporter": "python",
   "pygments_lexer": "ipython3",
   "version": "3.7.4"
  }
 },
 "nbformat": 4,
 "nbformat_minor": 2
}
